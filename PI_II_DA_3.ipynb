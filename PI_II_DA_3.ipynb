{
 "cells": [
  {
   "cell_type": "markdown",
   "metadata": {},
   "source": [
    "#  Profundización Análisis Stable Coins\n",
    "\n",
    "En este notebook profundizaremos nuestro análisis sobre nuestras Stable Coins considerando algunos de los indicadores más importantes a las hora de invertir.\n",
    "\n",
    "Indicadores:\n",
    "- Market Capital 'PI_II_DA.ipynb'\n",
    "- ATR Average True Range\n",
    "- RSI Relative Strength Index"
   ]
  },
  {
   "cell_type": "code",
   "execution_count": 56,
   "metadata": {},
   "outputs": [],
   "source": [
    "from pycoingecko import CoinGeckoAPI\n",
    "import numpy as np\n",
    "import pandas as pd\n",
    "import seaborn as sns\n",
    "import datetime as dt\n",
    "import matplotlib.pyplot as plt\n",
    "import plotly.graph_objects as go\n",
    "import time as t\n",
    "import mplfinance as fplt"
   ]
  },
  {
   "cell_type": "markdown",
   "metadata": {},
   "source": [
    "Creación de una instancia de CoinGeckoAPI para acceder a la API CoinGecko"
   ]
  },
  {
   "cell_type": "code",
   "execution_count": 57,
   "metadata": {},
   "outputs": [],
   "source": [
    "cg = CoinGeckoAPI()"
   ]
  },
  {
   "cell_type": "markdown",
   "metadata": {},
   "source": [
    "Comprobación de conexión con la API CoinGecko"
   ]
  },
  {
   "cell_type": "code",
   "execution_count": 58,
   "metadata": {},
   "outputs": [
    {
     "data": {
      "text/plain": [
       "{'gecko_says': '(V3) To the Moon!'}"
      ]
     },
     "execution_count": 58,
     "metadata": {},
     "output_type": "execute_result"
    }
   ],
   "source": [
    "cg.ping()"
   ]
  },
  {
   "cell_type": "code",
   "execution_count": 39,
   "metadata": {},
   "outputs": [
    {
     "data": {
      "text/html": [
       "<div>\n",
       "<style scoped>\n",
       "    .dataframe tbody tr th:only-of-type {\n",
       "        vertical-align: middle;\n",
       "    }\n",
       "\n",
       "    .dataframe tbody tr th {\n",
       "        vertical-align: top;\n",
       "    }\n",
       "\n",
       "    .dataframe thead th {\n",
       "        text-align: right;\n",
       "    }\n",
       "</style>\n",
       "<table border=\"1\" class=\"dataframe\">\n",
       "  <thead>\n",
       "    <tr style=\"text-align: right;\">\n",
       "      <th></th>\n",
       "      <th>category_id</th>\n",
       "      <th>name</th>\n",
       "    </tr>\n",
       "  </thead>\n",
       "  <tbody>\n",
       "    <tr>\n",
       "      <th>0</th>\n",
       "      <td>aave-tokens</td>\n",
       "      <td>Aave Tokens</td>\n",
       "    </tr>\n",
       "    <tr>\n",
       "      <th>1</th>\n",
       "      <td>algorand-ecosystem</td>\n",
       "      <td>Algorand Ecosystem</td>\n",
       "    </tr>\n",
       "    <tr>\n",
       "      <th>2</th>\n",
       "      <td>alleged-sec-securities</td>\n",
       "      <td>Alleged SEC Securities</td>\n",
       "    </tr>\n",
       "    <tr>\n",
       "      <th>3</th>\n",
       "      <td>analytics</td>\n",
       "      <td>Analytics</td>\n",
       "    </tr>\n",
       "    <tr>\n",
       "      <th>4</th>\n",
       "      <td>animal-racing</td>\n",
       "      <td>Animal Racing</td>\n",
       "    </tr>\n",
       "  </tbody>\n",
       "</table>\n",
       "</div>"
      ],
      "text/plain": [
       "              category_id                    name\n",
       "0             aave-tokens             Aave Tokens\n",
       "1      algorand-ecosystem      Algorand Ecosystem\n",
       "2  alleged-sec-securities  Alleged SEC Securities\n",
       "3               analytics               Analytics\n",
       "4           animal-racing           Animal Racing"
      ]
     },
     "execution_count": 39,
     "metadata": {},
     "output_type": "execute_result"
    }
   ],
   "source": [
    "coin_categories = pd.DataFrame(cg.get_coins_categories_list())\n",
    "coin_categories.head()"
   ]
  },
  {
   "cell_type": "code",
   "execution_count": 40,
   "metadata": {},
   "outputs": [
    {
     "data": {
      "text/html": [
       "<div>\n",
       "<style scoped>\n",
       "    .dataframe tbody tr th:only-of-type {\n",
       "        vertical-align: middle;\n",
       "    }\n",
       "\n",
       "    .dataframe tbody tr th {\n",
       "        vertical-align: top;\n",
       "    }\n",
       "\n",
       "    .dataframe thead th {\n",
       "        text-align: right;\n",
       "    }\n",
       "</style>\n",
       "<table border=\"1\" class=\"dataframe\">\n",
       "  <thead>\n",
       "    <tr style=\"text-align: right;\">\n",
       "      <th></th>\n",
       "      <th>category_id</th>\n",
       "      <th>name</th>\n",
       "    </tr>\n",
       "  </thead>\n",
       "  <tbody>\n",
       "    <tr>\n",
       "      <th>35</th>\n",
       "      <td>cny-stablecoin</td>\n",
       "      <td>CNY Stablecoin</td>\n",
       "    </tr>\n",
       "    <tr>\n",
       "      <th>64</th>\n",
       "      <td>eur-stablecoin</td>\n",
       "      <td>EUR Stablecoin</td>\n",
       "    </tr>\n",
       "    <tr>\n",
       "      <th>75</th>\n",
       "      <td>gbp-stablecoin</td>\n",
       "      <td>GBP Stablecoin</td>\n",
       "    </tr>\n",
       "    <tr>\n",
       "      <th>85</th>\n",
       "      <td>idr-stablecoin</td>\n",
       "      <td>IDR Stablecoin</td>\n",
       "    </tr>\n",
       "    <tr>\n",
       "      <th>97</th>\n",
       "      <td>jpy-stablecoin</td>\n",
       "      <td>JPY Stablecoin</td>\n",
       "    </tr>\n",
       "    <tr>\n",
       "      <th>101</th>\n",
       "      <td>krw-stablecoin</td>\n",
       "      <td>KRW Stablecoin</td>\n",
       "    </tr>\n",
       "    <tr>\n",
       "      <th>172</th>\n",
       "      <td>stablecoins</td>\n",
       "      <td>Stablecoins</td>\n",
       "    </tr>\n",
       "    <tr>\n",
       "      <th>190</th>\n",
       "      <td>try-stablecoins</td>\n",
       "      <td>TRY Stablecoin</td>\n",
       "    </tr>\n",
       "    <tr>\n",
       "      <th>191</th>\n",
       "      <td>usd-stablecoin</td>\n",
       "      <td>USD Stablecoin</td>\n",
       "    </tr>\n",
       "  </tbody>\n",
       "</table>\n",
       "</div>"
      ],
      "text/plain": [
       "         category_id            name\n",
       "35    cny-stablecoin  CNY Stablecoin\n",
       "64    eur-stablecoin  EUR Stablecoin\n",
       "75    gbp-stablecoin  GBP Stablecoin\n",
       "85    idr-stablecoin  IDR Stablecoin\n",
       "97    jpy-stablecoin  JPY Stablecoin\n",
       "101   krw-stablecoin  KRW Stablecoin\n",
       "172      stablecoins     Stablecoins\n",
       "190  try-stablecoins  TRY Stablecoin\n",
       "191   usd-stablecoin  USD Stablecoin"
      ]
     },
     "execution_count": 40,
     "metadata": {},
     "output_type": "execute_result"
    }
   ],
   "source": [
    "coin_categories[coin_categories['category_id'].str.contains('stable')]"
   ]
  },
  {
   "cell_type": "code",
   "execution_count": 41,
   "metadata": {},
   "outputs": [
    {
     "data": {
      "text/html": [
       "<div>\n",
       "<style scoped>\n",
       "    .dataframe tbody tr th:only-of-type {\n",
       "        vertical-align: middle;\n",
       "    }\n",
       "\n",
       "    .dataframe tbody tr th {\n",
       "        vertical-align: top;\n",
       "    }\n",
       "\n",
       "    .dataframe thead th {\n",
       "        text-align: right;\n",
       "    }\n",
       "</style>\n",
       "<table border=\"1\" class=\"dataframe\">\n",
       "  <thead>\n",
       "    <tr style=\"text-align: right;\">\n",
       "      <th></th>\n",
       "      <th>name</th>\n",
       "      <th>id</th>\n",
       "      <th>current_price</th>\n",
       "      <th>market_cap</th>\n",
       "      <th>circulating_supply</th>\n",
       "    </tr>\n",
       "  </thead>\n",
       "  <tbody>\n",
       "    <tr>\n",
       "      <th>0</th>\n",
       "      <td>Tether</td>\n",
       "      <td>tether</td>\n",
       "      <td>0.998542</td>\n",
       "      <td>8.306072e+10</td>\n",
       "      <td>8.318200e+10</td>\n",
       "    </tr>\n",
       "    <tr>\n",
       "      <th>1</th>\n",
       "      <td>USD Coin</td>\n",
       "      <td>usd-coin</td>\n",
       "      <td>0.999885</td>\n",
       "      <td>2.603399e+10</td>\n",
       "      <td>2.603333e+10</td>\n",
       "    </tr>\n",
       "    <tr>\n",
       "      <th>2</th>\n",
       "      <td>Dai</td>\n",
       "      <td>dai</td>\n",
       "      <td>0.999268</td>\n",
       "      <td>3.926286e+09</td>\n",
       "      <td>3.929161e+09</td>\n",
       "    </tr>\n",
       "    <tr>\n",
       "      <th>3</th>\n",
       "      <td>Binance USD</td>\n",
       "      <td>binance-usd</td>\n",
       "      <td>0.999354</td>\n",
       "      <td>3.335357e+09</td>\n",
       "      <td>3.337600e+09</td>\n",
       "    </tr>\n",
       "    <tr>\n",
       "      <th>4</th>\n",
       "      <td>TrueUSD</td>\n",
       "      <td>true-usd</td>\n",
       "      <td>0.998589</td>\n",
       "      <td>2.748711e+09</td>\n",
       "      <td>2.751975e+09</td>\n",
       "    </tr>\n",
       "    <tr>\n",
       "      <th>5</th>\n",
       "      <td>Frax</td>\n",
       "      <td>frax</td>\n",
       "      <td>0.996993</td>\n",
       "      <td>8.103257e+08</td>\n",
       "      <td>8.126414e+08</td>\n",
       "    </tr>\n",
       "    <tr>\n",
       "      <th>6</th>\n",
       "      <td>USDD</td>\n",
       "      <td>usdd</td>\n",
       "      <td>0.996535</td>\n",
       "      <td>7.228458e+08</td>\n",
       "      <td>7.253320e+08</td>\n",
       "    </tr>\n",
       "    <tr>\n",
       "      <th>7</th>\n",
       "      <td>Pax Dollar</td>\n",
       "      <td>paxos-standard</td>\n",
       "      <td>0.999132</td>\n",
       "      <td>5.058243e+08</td>\n",
       "      <td>5.061000e+08</td>\n",
       "    </tr>\n",
       "    <tr>\n",
       "      <th>8</th>\n",
       "      <td>PAX Gold</td>\n",
       "      <td>pax-gold</td>\n",
       "      <td>1898.050000</td>\n",
       "      <td>4.715887e+08</td>\n",
       "      <td>2.483434e+05</td>\n",
       "    </tr>\n",
       "    <tr>\n",
       "      <th>9</th>\n",
       "      <td>Tether Gold</td>\n",
       "      <td>tether-gold</td>\n",
       "      <td>1903.430000</td>\n",
       "      <td>4.691881e+08</td>\n",
       "      <td>2.465243e+05</td>\n",
       "    </tr>\n",
       "  </tbody>\n",
       "</table>\n",
       "</div>"
      ],
      "text/plain": [
       "          name              id  current_price    market_cap  \\\n",
       "0       Tether          tether       0.998542  8.306072e+10   \n",
       "1     USD Coin        usd-coin       0.999885  2.603399e+10   \n",
       "2          Dai             dai       0.999268  3.926286e+09   \n",
       "3  Binance USD     binance-usd       0.999354  3.335357e+09   \n",
       "4      TrueUSD        true-usd       0.998589  2.748711e+09   \n",
       "5         Frax            frax       0.996993  8.103257e+08   \n",
       "6         USDD            usdd       0.996535  7.228458e+08   \n",
       "7   Pax Dollar  paxos-standard       0.999132  5.058243e+08   \n",
       "8     PAX Gold        pax-gold    1898.050000  4.715887e+08   \n",
       "9  Tether Gold     tether-gold    1903.430000  4.691881e+08   \n",
       "\n",
       "   circulating_supply  \n",
       "0        8.318200e+10  \n",
       "1        2.603333e+10  \n",
       "2        3.929161e+09  \n",
       "3        3.337600e+09  \n",
       "4        2.751975e+09  \n",
       "5        8.126414e+08  \n",
       "6        7.253320e+08  \n",
       "7        5.061000e+08  \n",
       "8        2.483434e+05  \n",
       "9        2.465243e+05  "
      ]
     },
     "metadata": {},
     "output_type": "display_data"
    }
   ],
   "source": [
    "stable_market_cap_data = pd.DataFrame(cg.get_coins_markets(vs_currency = 'usd', category = 'stablecoins')).sort_values('market_cap', ascending=False)\n",
    "stable_df = stable_market_cap_data[['name', 'id', 'current_price', 'market_cap', 'circulating_supply']].head(10)\n",
    "display(stable_df)"
   ]
  },
  {
   "cell_type": "markdown",
   "metadata": {},
   "source": [
    "Ahora organicemos las monedas en forma de lista"
   ]
  },
  {
   "cell_type": "code",
   "execution_count": 42,
   "metadata": {},
   "outputs": [
    {
     "name": "stdout",
     "output_type": "stream",
     "text": [
      "['tether', 'usd-coin', 'dai', 'binance-usd', 'true-usd', 'frax', 'usdd', 'paxos-standard', 'pax-gold', 'tether-gold']\n"
     ]
    }
   ],
   "source": [
    "stable_list = stable_df.id.tolist()\n",
    "print(stable_list)"
   ]
  },
  {
   "cell_type": "markdown",
   "metadata": {},
   "source": [
    "A continuación crearemos un DataFrame vacío con columnas para almacenar información sobre los precios de nuestra selección de criptomonedas a lo largo del tiempo. \n",
    "Posteriormente, este DataFrame se llenará con los datos específicos de cada criptomoneda determinada."
   ]
  },
  {
   "cell_type": "code",
   "execution_count": 59,
   "metadata": {},
   "outputs": [
    {
     "data": {
      "text/html": [
       "<div>\n",
       "<style scoped>\n",
       "    .dataframe tbody tr th:only-of-type {\n",
       "        vertical-align: middle;\n",
       "    }\n",
       "\n",
       "    .dataframe tbody tr th {\n",
       "        vertical-align: top;\n",
       "    }\n",
       "\n",
       "    .dataframe thead th {\n",
       "        text-align: right;\n",
       "    }\n",
       "</style>\n",
       "<table border=\"1\" class=\"dataframe\">\n",
       "  <thead>\n",
       "    <tr style=\"text-align: right;\">\n",
       "      <th></th>\n",
       "      <th>Date</th>\n",
       "      <th>Open</th>\n",
       "      <th>High</th>\n",
       "      <th>Low</th>\n",
       "      <th>Close</th>\n",
       "      <th>id</th>\n",
       "    </tr>\n",
       "  </thead>\n",
       "  <tbody>\n",
       "  </tbody>\n",
       "</table>\n",
       "</div>"
      ],
      "text/plain": [
       "Empty DataFrame\n",
       "Columns: [Date, Open, High, Low, Close, id]\n",
       "Index: []"
      ]
     },
     "execution_count": 59,
     "metadata": {},
     "output_type": "execute_result"
    }
   ],
   "source": [
    "data = {'Date':[], 'Open':[], 'High':[], 'Low':[], 'Close':[], 'id':[]}\n",
    "df = pd.DataFrame.from_dict(data)\n",
    "df"
   ]
  },
  {
   "cell_type": "markdown",
   "metadata": {},
   "source": [
    "El siguiente fragmento de código iterará a través de 'lista_monedas' y para cada una de las moneda seleccionadas, estará obteniendo datos históricos de precios, calculando el indicador ATR (Average True Range) y el indicador RSI (Relative Strength Index), y luego agregará estos datos al DataFrame df."
   ]
  },
  {
   "cell_type": "code",
   "execution_count": 60,
   "metadata": {},
   "outputs": [],
   "source": [
    "# Iteración a través de las monedas:\n",
    "lista_monedas = ['tether', 'usd-coin', 'dai', 'binance-usd', 'true-usd', 'frax', 'usdd', 'paxos-standard', 'pax-gold', 'tether-gold']\n",
    "for moneda in lista_monedas:\n",
    "    \n",
    "# Obtención de datos históricos de precios (OHLC: Open, High, Low, Close):\n",
    "    ohlc_data = cg.get_coin_ohlc_by_id(id = moneda, vs_currency = 'usd', days = '180')\n",
    "    ohlc_data_frame = pd.DataFrame(data = ohlc_data, columns = ['Date', 'Open', 'High' ,'Low', 'Close'])\n",
    "    ohlc_data_frame['Date'] = ohlc_data_frame['Date'].apply(lambda x: dt.datetime.fromtimestamp(x/1000).strftime('%m-%d-%Y %H:%M:%S'))\n",
    "    ohlc_data_frame['Date'] = pd.to_datetime(ohlc_data_frame['Date'])\n",
    "    ohlc_data_frame = ohlc_data_frame.set_index('Date')\n",
    "    ohlc_data_frame['id'] = moneda\n",
    "\n",
    "# Cálculo del indicador ATR (Average True Range):\n",
    "    def wwma(values, n):\n",
    "        return values.ewm(alpha=1/n, adjust=False).mean()\n",
    "    def atr(df, n=14):\n",
    "        data = df.copy()\n",
    "        high = data['High']\n",
    "        low = data['Low']\n",
    "        close = data['Close']\n",
    "        data['tr0'] = abs(high - low)\n",
    "        data['tr1'] = abs(high - close.shift())\n",
    "        data['tr2'] = abs(low - close.shift())\n",
    "        tr = data[['tr0', 'tr1', 'tr2']].max(axis=1)\n",
    "        atr = wwma(tr, n)\n",
    "        return atr\n",
    "    ohlc_data_frame['ATR'] = atr(ohlc_data_frame)\n",
    "    ohlc_data_frame['change'] = ohlc_data_frame['Close'].diff()\n",
    "    ohlc_data_frame['gain'] = ohlc_data_frame.change.mask(ohlc_data_frame.change < 0, 0.0)\n",
    "    ohlc_data_frame['loss'] = -ohlc_data_frame.change.mask(ohlc_data_frame.change > 0, -0.0)\n",
    "\n",
    "# Cálculo del indicador RSI (Relative Strength Index):\n",
    "    def rma(x, n):\n",
    "        \"\"\"Running moving average\"\"\"\n",
    "        a = np.full_like(x, np.nan)\n",
    "        a[n] = x[1:n+1].mean()\n",
    "        for i in range(n+1, len(x)):\n",
    "            a[i] = (a[i-1] * (n - 1) + x[i]) / n\n",
    "        return a\n",
    "    ohlc_data_frame['avg_gain'] = rma(ohlc_data_frame.gain.to_numpy(), 14)\n",
    "    ohlc_data_frame['avg_loss'] = rma(ohlc_data_frame.loss.to_numpy(), 14)\n",
    "    ohlc_data_frame['rs'] = ohlc_data_frame.avg_gain / ohlc_data_frame.avg_loss\n",
    "    ohlc_data_frame['RSI'] = 100 - (100 / (1 + ohlc_data_frame.rs))\n",
    "    ohlc_data_frame = ohlc_data_frame.drop(['change', 'gain', 'loss', 'avg_gain', 'avg_loss', 'rs'], axis=1)\n",
    "    df = pd.concat([df, ohlc_data_frame], ignore_index=True)"
   ]
  },
  {
   "cell_type": "markdown",
   "metadata": {},
   "source": [
    "Repasemos lo realizado:\n",
    "\n",
    "1. Iteración a través de las monedas: para cada moneda en la lista, se realizarán una serie de operaciones.\n",
    "\n",
    "2. Obtención de datos históricos de precios: Aquí obtenemos los datos históricos de precios (OHLC: Open, High, Low, Close) de la moneda actual usando la API CoinGecko. Luego, estos datos se convierten en un DataFrame llamado 'ohlc_data_frame'. La columna Date se ajusta para convertir los valores de tiempo en fechas legibles, y la columna id se establece en el identificador de la moneda actual.\n",
    "\n",
    "3. Cálculo del indicador ATR (Average True Range): Aquí definimos funciones para calcular el indicador ATR. Luego, calculamos los valores ATR para el DataFrame 'ohlc_data_frame' y se agregan como una columna llamada 'ATR'.\n",
    "\n",
    "4. Cálculo del indicador RSI (Relative Strength Index): Aquí calculamos el indicador RSI para el DataFrame 'ohlc_data_frame'. Calculamos las diferencias entre los precios de cierre, los valores de ganancias y pérdidas, y calculamos el RSI usando estos valores. Luego, se eliminan las columnas temporales utilizadas para calcular el RSI, y el DataFrame 'ohlc_data_frame' ahora contiene los precios históricos, el indicador ATR y el indicador RSI para la moneda actual."
   ]
  },
  {
   "cell_type": "markdown",
   "metadata": {},
   "source": [
    " Por último, a continuación, exportamos nuestro DataFrame que contendrá los datos históricos de precios, así como los indicadores ATR y RSI calculados para cada moneda en la lista 'lista_monedas'."
   ]
  },
  {
   "cell_type": "code",
   "execution_count": 54,
   "metadata": {},
   "outputs": [],
   "source": [
    "df.to_csv('olhc_monedas.csv', index=False)"
   ]
  }
 ],
 "metadata": {
  "kernelspec": {
   "display_name": "Python 3",
   "language": "python",
   "name": "python3"
  },
  "language_info": {
   "codemirror_mode": {
    "name": "ipython",
    "version": 3
   },
   "file_extension": ".py",
   "mimetype": "text/x-python",
   "name": "python",
   "nbconvert_exporter": "python",
   "pygments_lexer": "ipython3",
   "version": "3.11.4"
  },
  "orig_nbformat": 4
 },
 "nbformat": 4,
 "nbformat_minor": 2
}
