{
 "cells": [
  {
   "cell_type": "markdown",
   "metadata": {},
   "source": [
    "# KPIs\n",
    "\n",
    "1. Market Capitalization (Capitalización de mercado):\n",
    "\n",
    "La capitalización de mercado es una medida que indica el valor total de una criptomoneda en circulación en un momento determinado. Se calcula multiplicando el precio actual de la criptomoneda por su oferta circulante. Es un indicador importante para comprender la magnitud y la relevancia de una criptomoneda en el mercado. Las criptomonedas con una alta capitalización de mercado suelen ser consideradas más establecidas y prominentes en comparación con las de capitalización de mercado más baja.\n",
    "\n",
    "2. ATR (Average True Range) - Rango Verdadero Promedio:\n",
    "\n",
    "El ATR es un indicador de volatilidad que mide la diferencia entre el precio máximo y mínimo en un período determinado. Proporciona una medida de la volatilidad real del mercado, teniendo en cuenta las brechas y limitaciones del precio. Un ATR más alto indica una mayor volatilidad, mientras que un ATR más bajo sugiere menor volatilidad. El ATR es útil para los traders que desean establecer stop-loss y take-profit en función de la volatilidad actual.\n",
    "\n",
    "3. RSI (Relative Strength Index) - Índice de Fuerza Relativa:\n",
    "\n",
    "El RSI es un indicador de momentum que evalúa la velocidad y el cambio de los movimientos de los precios. RSI oscila entre 0 y 100 y se utiliza para identificar condiciones de sobrecompra (RSI cerca de 70 o superior) y sobreventa (RSI cerca de 30 o inferior). Un RSI alto puede indicar que un activo está sobrecomprado y podría haber una reversión a la baja, mientras que un RSI bajo puede sugerir que un activo está sobrevendido y podría haber una reversión al alza."
   ]
  }
 ],
 "metadata": {
  "kernelspec": {
   "display_name": "Python 3",
   "language": "python",
   "name": "python3"
  },
  "language_info": {
   "name": "python",
   "version": "3.11.4"
  },
  "orig_nbformat": 4
 },
 "nbformat": 4,
 "nbformat_minor": 2
}
